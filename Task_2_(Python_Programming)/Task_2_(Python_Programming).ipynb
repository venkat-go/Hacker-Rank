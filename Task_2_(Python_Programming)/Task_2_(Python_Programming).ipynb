{
  "nbformat": 4,
  "nbformat_minor": 0,
  "metadata": {
    "colab": {
      "name": "Task - 2 (Python Programming).ipynb",
      "provenance": [],
      "collapsed_sections": []
    },
    "kernelspec": {
      "name": "python3",
      "display_name": "Python 3"
    },
    "language_info": {
      "name": "python"
    }
  },
  "cells": [
    {
      "cell_type": "code",
      "metadata": {
        "colab": {
          "base_uri": "https://localhost:8080/"
        },
        "id": "GXOXK0DFGtGb",
        "outputId": "398f9d94-7f87-4f64-d6c0-dbe72ed18843"
      },
      "source": [
        "'''\n",
        "Question 1:\n",
        "Hacker Rank problem statement: https://www.hackerrank.com/challenges/list-comprehensions/problem\n",
        "\n",
        "'''\n",
        "\n",
        "x = int(input(\"Please enter X coordinate for cuboid \"))\n",
        "y = int(input(\"Please enter Y coordinate for cuboid \"))\n",
        "z = int(input(\"Please enter Z coordinate for cuboid \"))\n",
        "n = int(input(\"Please enter N \"))\n",
        "\n",
        "print([[p, q,r] for p in range(x+1)  for q in range(y+1)  for r in range(z+1)  if p+q+r!=n ])"
      ],
      "execution_count": null,
      "outputs": [
        {
          "output_type": "stream",
          "text": [
            "Please enter X coordinate for cuboid 1\n",
            "Please enter Y coordinate for cuboid 1\n",
            "Please enter Z coordinate for cuboid 2\n",
            "Please enter N 3\n",
            "[[0, 0, 0], [0, 0, 1], [0, 0, 2], [0, 1, 0], [0, 1, 1], [1, 0, 0], [1, 0, 1], [1, 1, 0], [1, 1, 2]]\n"
          ],
          "name": "stdout"
        }
      ]
    },
    {
      "cell_type": "code",
      "metadata": {
        "id": "dfivXuFnIWf_",
        "colab": {
          "base_uri": "https://localhost:8080/"
        },
        "outputId": "44a0eb5c-bdcd-41fe-cec4-43d34973497c"
      },
      "source": [
        "#Question2: https://www.hackerrank.com/challenges/nested-list/problem\n",
        "\n",
        "n = int(input(\"Please enter number of students: \"))\n",
        "\n",
        "stud = []\n",
        "for i in range(2*n):\n",
        "    stud.append(input().split())\n",
        "categories = {}\n",
        "\n",
        "for j in range(0, len(stud), 2):\n",
        "    categories[stud[j][0]] = float(stud[j + 1][0])\n",
        "\n",
        "outcome = []\n",
        "match = sorted(set(categories.values()))[1]\n",
        "\n",
        "for scholar in categories.keys():\n",
        "    if categories[scholar] == match:\n",
        "        outcome.append(scholar)\n",
        "\n",
        "\n",
        "for i in sorted(outcome):\n",
        "    print(i)\n",
        "\n",
        "\n",
        "\n"
      ],
      "execution_count": 11,
      "outputs": [
        {
          "output_type": "stream",
          "text": [
            "Please enter number of students: 2\n",
            "harry\n",
            "45\n",
            "berry\n",
            "54\n",
            "berry\n"
          ],
          "name": "stdout"
        }
      ]
    },
    {
      "cell_type": "code",
      "metadata": {
        "colab": {
          "base_uri": "https://localhost:8080/"
        },
        "id": "nyjBy9ok3rDz",
        "outputId": "2fb0d7d2-da66-4ceb-8e2f-b951b6b969a2"
      },
      "source": [
        "#QSN#3 - https://www.hackerrank.com/challenges/finding-the-percentage/problem\n",
        "\n",
        "n = int(input(\"Please enter number of students: \"))\n",
        "\n",
        "\n",
        "stud_marks = {}\n",
        "for _ in range(n):\n",
        "  name, *line = input().split()\n",
        "  scores = list(map(float, line))\n",
        "  stud_marks[name] = scores\n",
        "\n",
        "\n",
        "query_key = input(\"Please enter student name to findout percentage:\")\n",
        "\n",
        "    \n",
        "output = list(student_marks[query_key])\n",
        "\n",
        "Avg = sum(output)/len(output);\n",
        "\n",
        "print(\"The Average marks of the student \", query_key, end=\"\")\n",
        "print(\" is %.2f\"  % Avg)\n",
        "\n"
      ],
      "execution_count": 44,
      "outputs": [
        {
          "output_type": "stream",
          "text": [
            "Please enter number of students: 2\n",
            "harrty 67 990 0000\n",
            "berry 76 889 00876\n",
            "Please enter student name to findout percentage:berry\n",
            "The Average marks of the student  berry is 78.00\n"
          ],
          "name": "stdout"
        }
      ]
    },
    {
      "cell_type": "code",
      "metadata": {
        "colab": {
          "base_uri": "https://localhost:8080/"
        },
        "id": "qy-_Ns3wBZJF",
        "outputId": "0bdf72e8-5c0a-43cd-be84-84d88fbad20a"
      },
      "source": [
        "#QSN#4 - https://www.hackerrank.com/challenges/python-lists/problem\n",
        "\n",
        "\n",
        "n = int(input(\"Please Enter Number Commands: \"))\n",
        "lst = []\n",
        "for i in range(0, n):\n",
        "    tokens = input().split()\n",
        "\n",
        "    if tokens[0] == 'insert':\n",
        "        lst.insert(int(tokens[1]), int(tokens[2]))\n",
        "    elif tokens[0] == 'print':\n",
        "        print(lst)\n",
        "    elif tokens[0] == 'remove':\n",
        "        lst.remove(int(tokens[1]))\n",
        "    elif tokens[0] == 'append':\n",
        "        lst.append(int(tokens[1]))\n",
        "    elif tokens[0] == 'sort':\n",
        "        lst.sort()\n",
        "    elif tokens[0] == 'pop':\n",
        "        lst.pop()\n",
        "    elif tokens[0] == 'reverse':\n",
        "        lst.reverse()"
      ],
      "execution_count": 49,
      "outputs": [
        {
          "output_type": "stream",
          "text": [
            "Please Enter Number Commands: 4\n",
            "insert 0 8\n",
            "print\n",
            "[8]\n",
            "insert 5 7 8 9\n",
            "print\n",
            "[8, 7]\n"
          ],
          "name": "stdout"
        }
      ]
    },
    {
      "cell_type": "code",
      "metadata": {
        "id": "2PPLNdSnBcPJ"
      },
      "source": [
        ""
      ],
      "execution_count": null,
      "outputs": []
    },
    {
      "cell_type": "code",
      "metadata": {
        "colab": {
          "base_uri": "https://localhost:8080/"
        },
        "id": "3N3yZRq1CzR5",
        "outputId": "858058ce-34a5-445c-a85c-ebc7237608ff"
      },
      "source": [
        "#QSN#5 - https://www.hackerrank.com/challenges/python-tuples/problem\n",
        "n = input(\"Please enter number of elements in the tuple\")\n",
        "print(hash(tuple([int(i) for i in input().split()])))"
      ],
      "execution_count": 57,
      "outputs": [
        {
          "output_type": "stream",
          "text": [
            "Please enter number of elements in the tuple3\n",
            "1 2 3\n",
            "2528502973977326415\n"
          ],
          "name": "stdout"
        }
      ]
    },
    {
      "cell_type": "code",
      "metadata": {
        "colab": {
          "base_uri": "https://localhost:8080/"
        },
        "id": "1G_21BhYDB0D",
        "outputId": "a19332e5-a9cb-4bf8-c74e-7ef4bd274ec2"
      },
      "source": [
        "#QSNS#6 - https://www.hackerrank.com/challenges/py-introduction-to-sets/problem\n",
        "\n",
        "def avg(array):\n",
        "    sum_array = sum(set(array))\n",
        "    len_array = len(set(array))\n",
        "    output = sum_array/len_array\n",
        "    return output;\n",
        "\n",
        "\n",
        "n = int(input(\"Enter Number of elements in a set\"))\n",
        "arr1 = list(map(int, input().split()))\n",
        "result = avg(arr1)\n",
        "print(result)"
      ],
      "execution_count": 66,
      "outputs": [
        {
          "output_type": "stream",
          "text": [
            "Enter Number of elements for set10\n",
            "161 182 161 154 176 170 167 171 170 174\n",
            "169.375\n"
          ],
          "name": "stdout"
        }
      ]
    },
    {
      "cell_type": "code",
      "metadata": {
        "colab": {
          "base_uri": "https://localhost:8080/"
        },
        "id": "LC2KaaVkDQc4",
        "outputId": "02360bd1-85fa-47b9-9aa6-a3076131238e"
      },
      "source": [
        "#QSN#7-https://www.hackerrank.com/challenges/no-idea/problem\n",
        "\n",
        "i = input().split()\n",
        "j = int(i[0])\n",
        "k = int(i[1])\n",
        "\n",
        "arr = list()\n",
        "count = 0\n",
        "\n",
        "arr = list(map(int, input().strip().split()))\n",
        "\n",
        "A = set(map(int, input().strip().split()))\n",
        "B = set(map(int, input().strip().split()))\n",
        "\n",
        "for i in arr:\n",
        "    if i in A:\n",
        "        count = count+1\n",
        "    if i in B:\n",
        "        count = count-1\n",
        "\n",
        "print(count)"
      ],
      "execution_count": 69,
      "outputs": [
        {
          "output_type": "stream",
          "text": [
            "3 2\n",
            "1 5 3\n",
            "3 1\n",
            "5 7 \n",
            "1\n"
          ],
          "name": "stdout"
        }
      ]
    },
    {
      "cell_type": "code",
      "metadata": {
        "colab": {
          "base_uri": "https://localhost:8080/"
        },
        "id": "NXYdZpCPDs6K",
        "outputId": "8df546f1-6550-484c-c33e-66b255a62244"
      },
      "source": [
        "#QSN#8-https://www.hackerrank.com/challenges/symmetric-difference/problem\n",
        "\n",
        "numbers1 = int(input(\"Enter Number of elements in setA: \"))\n",
        "\n",
        "setA = set(map(int,input().split()))\n",
        "\n",
        "numbers2 = int(input(\"Enter Number of elements in setB: \"))\n",
        "\n",
        "setB = set(map(int,input().split()))\n",
        "diffset = (setA.difference(setB)).union(setB.difference(setA))\n",
        "\n",
        "print(\"Difference of SetA & SetB:\")\n",
        "for i in sorted(list(diffset)):\n",
        "        print(i)\n"
      ],
      "execution_count": 73,
      "outputs": [
        {
          "output_type": "stream",
          "text": [
            "Enter Number of elements in setA: 4\n",
            "3 4 52 5\n",
            "Enter Number of elements in setB: 7\n",
            "3 4 54 5 6  7 8 8\n",
            "Difference of SetA & SetB:\n",
            "6\n",
            "7\n",
            "8\n",
            "52\n",
            "54\n"
          ],
          "name": "stdout"
        }
      ]
    },
    {
      "cell_type": "code",
      "metadata": {
        "colab": {
          "base_uri": "https://localhost:8080/"
        },
        "id": "dSVXvOPbJmo6",
        "outputId": "4db6a3e2-ac4e-4d72-d483-1a9fcb17471e"
      },
      "source": [
        "#QSN#9 - https://www.hackerrank.com/challenges/py-set-add/problem\n",
        "\n",
        "n = int(input(\"Enter number of elements for set\"))\n",
        "\n",
        "Nations = set()\n",
        "\n",
        "for i in range(n):\n",
        "    Nations.add(input(\"Please enter a Nation Name:\"))\n",
        "\n",
        "print(\"Unique number of elements entered is \", len(Nations))"
      ],
      "execution_count": 79,
      "outputs": [
        {
          "output_type": "stream",
          "text": [
            "Enter number of elements for set3\n",
            "Please enter a Nation Name:USA\n",
            "Please enter a Nation Name:UK\n",
            "Please enter a Nation Name:India\n",
            "Unique number of elements entered is  3\n"
          ],
          "name": "stdout"
        }
      ]
    },
    {
      "cell_type": "code",
      "metadata": {
        "colab": {
          "base_uri": "https://localhost:8080/"
        },
        "id": "wMJH2B4xJM-P",
        "outputId": "8f9f9fd7-7e54-4a92-fa27-c2ed108f1f80"
      },
      "source": [
        "#Qsn#10 - https://www.hackerrank.com/challenges/py-set-discard-remove-pop/problem\n",
        "\n",
        "n = int(input(\"Please enter number of elements in a set\"))\n",
        "s = set(map(int,input().split()))\n",
        "num = int(input())\n",
        "for i in range(num):\n",
        "    ip = input().split()\n",
        "    if ip[0]==\"remove\":\n",
        "        s.remove(int(ip[1]))\n",
        "    elif ip[0]==\"discard\":\n",
        "        s.discard(int(ip[1]))\n",
        "    else :\n",
        "        s.pop()\n",
        "        \n",
        "print(sum(list(s)))\n"
      ],
      "execution_count": 80,
      "outputs": [
        {
          "output_type": "stream",
          "text": [
            "9\n",
            "1 2 3 4 5 6 7 8 9\n",
            "10\n",
            "pop\n",
            "remove 9\n",
            "discard 9\n",
            "discard 8\n",
            "remove 7\n",
            "pop\n",
            "discard 6\n",
            "remove 5\n",
            "pop\n",
            "discard 5\n",
            "4\n"
          ],
          "name": "stdout"
        }
      ]
    },
    {
      "cell_type": "code",
      "metadata": {
        "colab": {
          "base_uri": "https://localhost:8080/"
        },
        "id": "5C7MnRVhKyui",
        "outputId": "266e7d0b-782d-4c0e-8776-69d363983581"
      },
      "source": [
        "#Qsn#11 https://www.hackerrank.com/challenges/py-set-union/problem\n",
        "\n",
        "n1 = input(\"number of students who have subscribed to the English newspaper.\")\n",
        "SetA = set(input(\"Enter elements in set A\").split());\n",
        "\n",
        "n2=input(\"number of students who have subscribed to the French newspaper.\")\n",
        "SetB = set(input(\"Enter elements in set B\").split());\n",
        "\n",
        "\n",
        "print(\"Print lenght of union set: \" , len(SetA.union(SetB)))"
      ],
      "execution_count": 86,
      "outputs": [
        {
          "output_type": "stream",
          "text": [
            "Enter elements in set A1 2 3 4 5 6 7 8 9\n",
            "10 1 2 3 11 21 55 6 8\n",
            "Union of setA & SetB is {'7', '11', '10', '5', '3', '6', '1', '55', '8', '21', '9', '4', '2'}\n",
            "Print lenght of union set:  13\n"
          ],
          "name": "stdout"
        }
      ]
    },
    {
      "cell_type": "code",
      "metadata": {
        "colab": {
          "base_uri": "https://localhost:8080/"
        },
        "id": "7SLY4HeWNN2j",
        "outputId": "ee2091a6-4e28-419f-b5a8-e8ecae2248ce"
      },
      "source": [
        "#Qsn#12 https://www.hackerrank.com/challenges/py-set-intersection-operation/problem\n",
        "n1 = input(\"number of students who have subscribed to the English newspaper.\")\n",
        "\n",
        "SetA = set(input(\"Enter elements in set A\").split());\n",
        "n2=input(\"number of students who have subscribed to the French newspaper.\")\n",
        "SetB = set(input(\"Enter elements in set B\").split());\n",
        "print(\"Print lenght of union set: \" , len(SetA.intersection(SetB)))\n",
        "\n"
      ],
      "execution_count": 92,
      "outputs": [
        {
          "output_type": "stream",
          "text": [
            "number of students who have subscribed to the English newspaper.9\n",
            "Enter elements in set A1 2 3 4 5 6 7 8 9\n",
            "number of students who have subscribed to the French newspaper.9\n",
            "Enter elements in set B10 1 2 3 11 21 55 6 8\n",
            "Print lenght of union set:  5\n"
          ],
          "name": "stdout"
        }
      ]
    },
    {
      "cell_type": "code",
      "metadata": {
        "colab": {
          "base_uri": "https://localhost:8080/"
        },
        "id": "1RdpblVQMhG1",
        "outputId": "86880a7c-3900-4ff6-db2e-044e1afc35a5"
      },
      "source": [
        "#Qsn#13 https://www.hackerrank.com/challenges/py-set-intersection-operation/problem\n",
        "n1 = input(\"number of students who have subscribed to the English newspaper.\")\n",
        "\n",
        "SetA = set(input(\"Enter elements in set A\").split());\n",
        "n2=input(\"number of students who have subscribed to the French newspaper.\")\n",
        "SetB = set(input(\"Enter elements in set B\").split());\n",
        "print(\"Print lenght of union set: \" , len(SetA.difference(SetB)))"
      ],
      "execution_count": 94,
      "outputs": [
        {
          "output_type": "stream",
          "text": [
            "number of students who have subscribed to the English newspaper.9\n",
            "Enter elements in set A1 2 3 4 5 6 7 8 9\n",
            "number of students who have subscribed to the French newspaper.9\n",
            "Enter elements in set B10 1 2 3 11 21 55 6 8\n",
            "Print lenght of union set:  4\n"
          ],
          "name": "stdout"
        }
      ]
    },
    {
      "cell_type": "code",
      "metadata": {
        "colab": {
          "base_uri": "https://localhost:8080/"
        },
        "id": "05nIx9buTO8K",
        "outputId": "c8127063-c35d-463c-dfbc-9d771e0cbb78"
      },
      "source": [
        "#QSN#14 - https://www.hackerrank.com/challenges/py-set-symmetric-difference-operation/problem\n",
        "\n",
        "\n",
        "n1 = int(input(\"number of students who have subscribed to the English newspaper.\"))\n",
        "setA = input(\"Enter elements in set A: \").split()\n",
        "setA = list(map(int, setA))\n",
        "setA = set(setA)\n",
        "\n",
        "n2 = int(input(\"number of students who have subscribed to the French newspaper.\"))\n",
        "setB = input(\"Enter elements in set B: \").split()\n",
        "setB = list(map(int, setB))\n",
        "setB = set(setB)\n",
        "#print(setA)\n",
        "#print(setB)\n",
        "#print(setA.symmetric_difference(setB))\n",
        "print(len(set(setA).symmetric_difference(set(setB))))"
      ],
      "execution_count": 106,
      "outputs": [
        {
          "output_type": "stream",
          "text": [
            "number of students who have subscribed to the English newspaper.9\n",
            "Enter elements in set A: 10 1 2 3 11 21 55 6 8\n",
            "number of students who have subscribed to the French newspaper.9\n",
            "Enter elements in set B: 1 2 3 4 5 6 7 8 9\n",
            "{1, 2, 3, 6, 8, 10, 11, 21, 55}\n",
            "{1, 2, 3, 4, 5, 6, 7, 8, 9}\n",
            "8\n"
          ],
          "name": "stdout"
        }
      ]
    },
    {
      "cell_type": "code",
      "metadata": {
        "colab": {
          "base_uri": "https://localhost:8080/"
        },
        "id": "00jUVlsmVBUL",
        "outputId": "f94c8ae8-77b3-42a0-e788-7f47a1ede3bf"
      },
      "source": [
        "#QSN#15 - https://www.hackerrank.com/challenges/py-set-mutations/problem\n",
        "\n",
        "\n",
        "n = int(input(\"Enter number of elements in Set\"))\n",
        "\n",
        "setA = set(map(int, input().split()))\n",
        "\n",
        "op_len = int(input())\n",
        "\n",
        "for i in range(op_len):\n",
        "    operation = input().split()\n",
        "    if operation[0] == 'intersection_update':\n",
        "        temp_set = set(map(int, input().split()))\n",
        "        setA.intersection_update(temp_set)\n",
        "    elif operation[0] == 'update':\n",
        "        temp_set = set(map(int, input().split()))\n",
        "        setA.update(temp_set)\n",
        "    elif operation[0] == 'symmetric_difference_update':\n",
        "        temp_set = set(map(int, input().split()))\n",
        "        setA.symmetric_difference_update(temp_set)\n",
        "    elif operation[0] == 'difference_update':\n",
        "        temp_set = set(map(int, input().split()))\n",
        "        setA.difference_update(temp_set)\n",
        "    else :\n",
        "        assert False\n",
        "\n",
        "print(sum(setA))\n"
      ],
      "execution_count": 110,
      "outputs": [
        {
          "output_type": "stream",
          "text": [
            "Enter number of elements in Set16\n",
            " 1 2 3 4 5 6 7 8 9 10 11 12 13 14 24 52\n",
            "4\n",
            " intersection_update 10\n",
            " 2 3 5 6 8 9 1 4 7 11\n",
            " update 2\n",
            " 55 66\n",
            " symmetric_difference_update 5\n",
            " 22 7 35 62 58\n",
            " difference_update 7\n",
            " 11 22 35 55 58 62 66\n",
            "38\n"
          ],
          "name": "stdout"
        }
      ]
    },
    {
      "cell_type": "code",
      "metadata": {
        "colab": {
          "base_uri": "https://localhost:8080/"
        },
        "id": "JWMlHRQnXHwH",
        "outputId": "252bb770-e054-47a9-9081-9c727c31c5f1"
      },
      "source": [
        "#QSN#16 - https://www.hackerrank.com/challenges/py-the-captains-room/problem\n",
        "\n",
        "\n",
        "n = int(input(\"Size of each group: \"))\n",
        "\n",
        "group = map(int, input().split())\n",
        "group = sorted(group)\n",
        "#print(len(group))\n",
        "\n",
        "for i in range(len(group)):\n",
        "    if(i != len(group)-1):\n",
        "        if(group[i]!=group[i-1] and group[i]!=group[i+1]):\n",
        "            print(group[i])\n",
        "            break;\n",
        "    else:\n",
        "        print(group[i])"
      ],
      "execution_count": 113,
      "outputs": [
        {
          "output_type": "stream",
          "text": [
            "Size of each group: 5\n",
            "1 2 3 6 5 4 4 2 5 3 6 1 6 5 3 2 4 1 2 5 1 4 3 6 8 4 3 1 5 6 2 \n",
            "31\n",
            "8\n"
          ],
          "name": "stdout"
        }
      ]
    },
    {
      "cell_type": "code",
      "metadata": {
        "colab": {
          "base_uri": "https://localhost:8080/"
        },
        "id": "TBubK1gtY6sh",
        "outputId": "708b898c-ec35-4933-8b51-6cb5d438f4a2"
      },
      "source": [
        "#QSN#17 - https://www.hackerrank.com/challenges/py-check-subset/problem\n",
        "\n",
        "\n",
        "n = int(input(\"Please enter number of Test Cases: 2\"))\n",
        "\n",
        "for _ in range(n):\n",
        "    a = input(\"Number of elements in SetA: \")\n",
        "    setA = set(input(\"Elements of setA\").split())\n",
        "    b = int(input(\"Number of elements in set B :\"))\n",
        "    setB = set(input(\"Elements of set B\").split())\n",
        "    print(setA.issubset(setB))"
      ],
      "execution_count": 115,
      "outputs": [
        {
          "output_type": "stream",
          "text": [
            "Please enter number of Test Cases T3\n",
            "Number of elements in SetA: 5\n",
            "Elements of setA1 2 3 5 6\n",
            "Number of elements in set B :9\n",
            "Elements of set B9 8 5 6 3 2 1 4 7\n",
            "True\n",
            "Number of elements in SetA: 1\n",
            "Elements of setA2\n",
            "Number of elements in set B :5\n",
            "Elements of set B3 6 5 4 1\n",
            "False\n",
            "Number of elements in SetA: 7\n",
            "Elements of setA1 2 3 5 6 8 9\n",
            "Number of elements in set B :3\n",
            "Elements of set B9 8 2\n",
            "False\n"
          ],
          "name": "stdout"
        }
      ]
    },
    {
      "cell_type": "code",
      "metadata": {
        "colab": {
          "base_uri": "https://localhost:8080/"
        },
        "id": "pDpyL92EaDI8",
        "outputId": "66c15ec0-09e1-4d12-eedf-8e71fd896dbd"
      },
      "source": [
        "#QSN#18 - https://www.hackerrank.com/challenges/py-check-strict-superset/problem\n",
        "\n",
        "A = set(map(int, input(\"Elements of setA \").split()))\n",
        "for _ in range(int(input(\"Number of other Sets: \"))):\n",
        "    X = set(map(int, input(\"Elements of the other sets.\").split()))\n",
        "    if A.issuperset(X) != True or len(A) == len(X): \n",
        "        print(False)\n",
        "        break \n",
        "    else: \n",
        "      print(True)\n",
        "\n"
      ],
      "execution_count": 117,
      "outputs": [
        {
          "output_type": "stream",
          "text": [
            "Elements of setA 1 2 3 4 5 6 7 8 9 10 11 12 23 45 84 78\n",
            "Number of other Sets: 2\n",
            "Elements of the other sets.1 2 3 4 5\n",
            "True\n",
            "Elements of the other sets.100 11 12\n",
            "False\n"
          ],
          "name": "stdout"
        }
      ]
    },
    {
      "cell_type": "code",
      "metadata": {
        "id": "etsTAdMeb0aR"
      },
      "source": [
        ""
      ],
      "execution_count": null,
      "outputs": []
    }
  ]
}