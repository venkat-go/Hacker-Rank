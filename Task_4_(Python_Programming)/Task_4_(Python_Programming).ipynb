{
  "nbformat": 4,
  "nbformat_minor": 0,
  "metadata": {
    "colab": {
      "name": "Task - 4 (Python Programming).ipynb",
      "provenance": [],
      "collapsed_sections": []
    },
    "kernelspec": {
      "name": "python3",
      "display_name": "Python 3"
    },
    "language_info": {
      "name": "python"
    }
  },
  "cells": [
    {
      "cell_type": "code",
      "metadata": {
        "colab": {
          "base_uri": "https://localhost:8080/"
        },
        "id": "ORzuFvVWHjY8",
        "outputId": "aa1e8663-9df4-486b-9e1c-6c1738c3ba94"
      },
      "source": [
        "#QSN#1 - \n",
        "def display_full_name(fname, lname):\n",
        "    return \"Hello \" + fname + lname + \"! \", \"You just delved into python.\"\n",
        "    \n",
        "    \n",
        "    first_name = input()\n",
        "    last_name = input()\n",
        "display_full_name(first_name, last_name)\n"
      ],
      "execution_count": 25,
      "outputs": [
        {
          "output_type": "execute_result",
          "data": {
            "text/plain": [
              "('Hello RoseTaylor! ', 'You just delved into python.')"
            ]
          },
          "metadata": {
            "tags": []
          },
          "execution_count": 25
        }
      ]
    },
    {
      "cell_type": "code",
      "metadata": {
        "colab": {
          "base_uri": "https://localhost:8080/"
        },
        "id": "vC36gEkA95yk",
        "outputId": "253db8bc-4636-439c-bb01-9bd18996965a"
      },
      "source": [
        "#QSN#2 - sWAP cASE - https://www.hackerrank.com/challenges/swap-case/problem\n",
        "\n",
        "def swap_case(s):\n",
        "    str  = ''\n",
        "    for char in s:\n",
        "        if(char.isupper()): str += (char.lower())\n",
        "        elif(char.islower()): str += (char.upper())\n",
        "        else: str += char\n",
        "\n",
        "    return str;\n",
        "    \n",
        "print(swap_case(input()))"
      ],
      "execution_count": 13,
      "outputs": [
        {
          "output_type": "stream",
          "text": [
            "hACKERrANK.COM PRESENTS \"pYTHONIST 2\"\n",
            "HackerRank.com presents \"Pythonist 2\"\n"
          ],
          "name": "stdout"
        }
      ]
    },
    {
      "cell_type": "code",
      "metadata": {
        "colab": {
          "base_uri": "https://localhost:8080/"
        },
        "id": "_wDDUpO1--ro",
        "outputId": "9ec2f153-2586-4bde-c726-3f22a4ff3efa"
      },
      "source": [
        "#QSNS#3 - String Split and Join - https://www.hackerrank.com/challenges/python-string-split-and-join/problem\n",
        "\n",
        "def split_and_join(line):\n",
        "    str = line.split();\n",
        "    str = \"-\".join(Output)\n",
        "    return str\n",
        "\n",
        "print(split_and_join(input()))"
      ],
      "execution_count": 17,
      "outputs": [
        {
          "output_type": "stream",
          "text": [
            "this is a string   \n"
          ],
          "name": "stdout"
        }
      ]
    },
    {
      "cell_type": "code",
      "metadata": {
        "colab": {
          "base_uri": "https://localhost:8080/"
        },
        "id": "YBsYlpnP_x3R",
        "outputId": "e2e32837-50c0-432d-98df-48338127a569"
      },
      "source": [
        "#QSN#4- Mutations - https://www.hackerrank.com/challenges/python-mutations/problem\n",
        "\n",
        "def mutate_string(string, position, character):\n",
        "    # Mutations in Python - HackerRank Solution START\n",
        "    l = list(string)\n",
        "    l[position] = character;\n",
        "    string = ''.join(l);\n",
        "    return string\n",
        "    \n",
        "s = input()\n",
        "i, c = input().split()\n",
        "s_new = mutate_string(s, int(i), c)\n",
        "print(s_new)"
      ],
      "execution_count": 28,
      "outputs": [
        {
          "output_type": "stream",
          "text": [
            "abracadabra\n",
            "5 k\n",
            "abrackdabra\n"
          ],
          "name": "stdout"
        }
      ]
    },
    {
      "cell_type": "code",
      "metadata": {
        "colab": {
          "base_uri": "https://localhost:8080/"
        },
        "id": "8eRFhWFAUrxl",
        "outputId": "6d07f5f6-a157-484f-ba8a-26c497ae3215"
      },
      "source": [
        "#QSN#5 - https://www.hackerrank.com/challenges/find-a-string/problem\n",
        "\n",
        "def count_substr(str, substr):\n",
        "    cnt = 0\n",
        "    for i in range(len(str)-len(substr)+1):\n",
        "        if (string[i:i+len(substr)] == substr):\n",
        "            cnt += 1\n",
        "    return cnt\n",
        " \n",
        "print(count_substr(input().strip(), input().strip()))"
      ],
      "execution_count": 36,
      "outputs": [
        {
          "output_type": "stream",
          "text": [
            "ABCDCDC\n",
            "CDC\n",
            "2\n"
          ],
          "name": "stdout"
        }
      ]
    },
    {
      "cell_type": "code",
      "metadata": {
        "colab": {
          "base_uri": "https://localhost:8080/"
        },
        "id": "4kkQCjPxbYTt",
        "outputId": "00924c5e-94ff-4ae4-8c00-dd78a8bc895c"
      },
      "source": [
        "#QSN#6 - https://www.hackerrank.com/challenges/string-validators/problem\n",
        "\n",
        "def alphanum(s):\n",
        "    for i in range(len(s)):\n",
        "        if(s[i].isalnum()):\n",
        "            return True;\n",
        "            break;\n",
        "    return False;\n",
        "        \n",
        "def alphabetical(s):\n",
        "    for i in range(len(s)):\n",
        "        if(s[i].isalpha()):\n",
        "            return True;\n",
        "            break;\n",
        "    return False;\n",
        "\n",
        "def digits(s):\n",
        "    for i in range(len(s)):\n",
        "        if(s[i].isdigit()):\n",
        "            return True;\n",
        "            break;\n",
        "    return False;\n",
        "\n",
        "def lowercase(s):\n",
        "    for i in range(len(s)):\n",
        "        if(s[i].islower()):\n",
        "            return True;\n",
        "            break;\n",
        "    return False; \n",
        "     \n",
        "def uppercase(s):\n",
        "    for i in range(len(s)):\n",
        "        if(s[i].isupper()):\n",
        "            return True;\n",
        "            break;\n",
        "    return False;\n",
        "    \n",
        "s = input()\n",
        "\n",
        "print(alphanum(s))\n",
        "print(alphabetical(s))\n",
        "print(digits(s))\n",
        "print(lowercase(s))\n",
        "print(uppercase(s))"
      ],
      "execution_count": 37,
      "outputs": [
        {
          "output_type": "stream",
          "text": [
            "qA2\n",
            "True\n",
            "True\n",
            "True\n",
            "True\n",
            "True\n"
          ],
          "name": "stdout"
        }
      ]
    },
    {
      "cell_type": "code",
      "metadata": {
        "colab": {
          "base_uri": "https://localhost:8080/"
        },
        "id": "FIT10Ii6gBGx",
        "outputId": "faa02680-6aad-466e-f05e-76bc3d817629"
      },
      "source": [
        "#QSN#7 - Text Wrap - https://www.hackerrank.com/challenges/text-wrap/problem\n",
        "import textwrap\n",
        "\n",
        "def wrap(string, width):\n",
        "    return textwrap.fill(string,width)\n",
        "    \n",
        "print(wrap(input(\"Please enter string: \"), int(input(\"Please enter width:\"))))"
      ],
      "execution_count": 41,
      "outputs": [
        {
          "output_type": "stream",
          "text": [
            "Please enter string: ABCDEFGHIJKLIMNOQRSTUVWXYZ\n",
            "Please enter width:4\n",
            "ABCD\n",
            "EFGH\n",
            "IJKL\n",
            "IMNO\n",
            "QRST\n",
            "UVWX\n",
            "YZ\n"
          ],
          "name": "stdout"
        }
      ]
    },
    {
      "cell_type": "code",
      "metadata": {
        "colab": {
          "base_uri": "https://localhost:8080/"
        },
        "id": "m0s42yOKiPaX",
        "outputId": "6fe73fce-64f0-43f4-8c9b-1846e39b61ab"
      },
      "source": [
        "#QSN#8 - Designer Door Mat - https://www.hackerrank.com/challenges/designer-door-mat/problem\n",
        "\n",
        "n, m = map(int, input().split())\n",
        "for i in range(1, n, 2):\n",
        "    print(str('.|.' * i).center(m, '-'))\n",
        "print('WELCOME'.center(m, '-'))\n",
        "for i in range(n-2, -1, -2):\n",
        "    print(str('.|.' * i).center(m, '-'))"
      ],
      "execution_count": 42,
      "outputs": [
        {
          "output_type": "stream",
          "text": [
            "9 27\n",
            "------------.|.------------\n",
            "---------.|..|..|.---------\n",
            "------.|..|..|..|..|.------\n",
            "---.|..|..|..|..|..|..|.---\n",
            "----------WELCOME----------\n",
            "---.|..|..|..|..|..|..|.---\n",
            "------.|..|..|..|..|.------\n",
            "---------.|..|..|.---------\n",
            "------------.|.------------\n"
          ],
          "name": "stdout"
        }
      ]
    },
    {
      "cell_type": "code",
      "metadata": {
        "colab": {
          "base_uri": "https://localhost:8080/"
        },
        "id": "tYxSHgSkjlUV",
        "outputId": "883b39f3-a8cc-4b6d-f7cc-95bef2ac885d"
      },
      "source": [
        "#QSN#9 - String Formatting - https://www.hackerrank.com/challenges/python-string-formatting/problem\n",
        "\n",
        "def format_display(number):\n",
        "    l1 = len(bin(number)[2:])\n",
        "   \n",
        "    for i in range(1,number+1):\n",
        "        print(str(i).rjust(l1,' '),end=\" \")\n",
        "        print(oct(i)[2:].rjust(l1,' '),end=\" \")\n",
        "        print(((hex(i)[2:]).upper()).rjust(l1,' '),end=\" \")\n",
        "        print(bin(i)[2:].rjust(l1,' '),end=\" \")\n",
        "        print(\"\")\n",
        "\n",
        "format_display(int(input()))\n"
      ],
      "execution_count": 45,
      "outputs": [
        {
          "output_type": "stream",
          "text": [
            "17\n",
            "    1     1     1     1 \n",
            "    2     2     2    10 \n",
            "    3     3     3    11 \n",
            "    4     4     4   100 \n",
            "    5     5     5   101 \n",
            "    6     6     6   110 \n",
            "    7     7     7   111 \n",
            "    8    10     8  1000 \n",
            "    9    11     9  1001 \n",
            "   10    12     A  1010 \n",
            "   11    13     B  1011 \n",
            "   12    14     C  1100 \n",
            "   13    15     D  1101 \n",
            "   14    16     E  1110 \n",
            "   15    17     F  1111 \n",
            "   16    20    10 10000 \n",
            "   17    21    11 10001 \n"
          ],
          "name": "stdout"
        }
      ]
    },
    {
      "cell_type": "code",
      "metadata": {
        "colab": {
          "base_uri": "https://localhost:8080/"
        },
        "id": "S0HJJVQbkPvt",
        "outputId": "77d6f604-3dd4-439d-e744-15cf512e0076"
      },
      "source": [
        "#QSN#10 - https://www.hackerrank.com/challenges/alphabet-rangoli/problem\n",
        "\n",
        "def str_format(size):\n",
        "    # your code goes here\n",
        "    width  = size*4-3\n",
        "    string = ''\n",
        "\n",
        "    for i in range(1,size+1):\n",
        "        for j in range(0,i):\n",
        "            string += chr(96+size-j)\n",
        "            if len(string) < width :\n",
        "                string += '-'\n",
        "        for k in range(i-1,0,-1):    \n",
        "            string += chr(97+size-k)\n",
        "            if len(string) < width :\n",
        "                string += '-'\n",
        "        print(string.center(width,'-'))\n",
        "        string = ''\n",
        "\n",
        "    for i in range(size-1,0,-1):\n",
        "        string = ''\n",
        "        for j in range(0,i):\n",
        "            string += chr(96+size-j)\n",
        "            if len(string) < width :\n",
        "                string += '-'\n",
        "        for k in range(i-1,0,-1):\n",
        "            string += chr(97+size-k)\n",
        "            if len(string) < width :\n",
        "                string += '-'\n",
        "        print(string.center(width,'-'))\n",
        "\n",
        "\n",
        "\n",
        "str_format(int(input()))\n"
      ],
      "execution_count": 47,
      "outputs": [
        {
          "output_type": "stream",
          "text": [
            "5\n",
            "--------e--------\n",
            "------e-d-e------\n",
            "----e-d-c-d-e----\n",
            "--e-d-c-b-c-d-e--\n",
            "e-d-c-b-a-b-c-d-e\n",
            "--e-d-c-b-c-d-e--\n",
            "----e-d-c-d-e----\n",
            "------e-d-e------\n",
            "--------e--------\n"
          ],
          "name": "stdout"
        }
      ]
    },
    {
      "cell_type": "code",
      "metadata": {
        "colab": {
          "base_uri": "https://localhost:8080/"
        },
        "id": "holVG_FfpthU",
        "outputId": "7d1a14a8-35d9-4d29-f6a6-edddf65c4bc7"
      },
      "source": [
        "#QSN#11-https://www.hackerrank.com/challenges/text-alignment/problem\n",
        "\n",
        "\n",
        "thickness = int(input(\"Please enter Odd number\")) \n",
        "c = 'H'\n",
        "\n",
        "#Top Cone\n",
        "for i in range(thickness):\n",
        "    print((c*i).rjust(thickness-1)+c+(c*i).ljust(thickness-1))\n",
        "\n",
        "#Top Pillars\n",
        "for i in range(thickness+1):\n",
        "    print((c*thickness).center(thickness*2)+(c*thickness).center(thickness*6))\n",
        "\n",
        "#Middle Belt\n",
        "for i in range((thickness+1)//2):\n",
        "    print((c*thickness*5).center(thickness*6))    \n",
        "\n",
        "#Bottom Pillars\n",
        "for i in range(thickness+1):\n",
        "    print((c*thickness).center(thickness*2)+(c*thickness).center(thickness*6))    \n",
        "\n",
        "#Bottom Cone\n",
        "# replace ______ To rjust |  ______ To ljust |  ______ To rjust\n",
        "for i in range(thickness):\n",
        "    print(((c*(thickness-i-1)).rjust(thickness)+c+(c*(thickness-i-1)).ljust(thickness)).rjust(thickness*6))\n"
      ],
      "execution_count": 3,
      "outputs": [
        {
          "output_type": "stream",
          "text": [
            "7\n",
            "      H      \n",
            "     HHH     \n",
            "    HHHHH    \n",
            "   HHHHHHH   \n",
            "  HHHHHHHHH  \n",
            " HHHHHHHHHHH \n",
            "HHHHHHHHHHHHH\n",
            "   HHHHHHH                     HHHHHHH                  \n",
            "   HHHHHHH                     HHHHHHH                  \n",
            "   HHHHHHH                     HHHHHHH                  \n",
            "   HHHHHHH                     HHHHHHH                  \n",
            "   HHHHHHH                     HHHHHHH                  \n",
            "   HHHHHHH                     HHHHHHH                  \n",
            "   HHHHHHH                     HHHHHHH                  \n",
            "   HHHHHHH                     HHHHHHH                  \n",
            "   HHHHHHHHHHHHHHHHHHHHHHHHHHHHHHHHHHH    \n",
            "   HHHHHHHHHHHHHHHHHHHHHHHHHHHHHHHHHHH    \n",
            "   HHHHHHHHHHHHHHHHHHHHHHHHHHHHHHHHHHH    \n",
            "   HHHHHHHHHHHHHHHHHHHHHHHHHHHHHHHHHHH    \n",
            "   HHHHHHH                     HHHHHHH                  \n",
            "   HHHHHHH                     HHHHHHH                  \n",
            "   HHHHHHH                     HHHHHHH                  \n",
            "   HHHHHHH                     HHHHHHH                  \n",
            "   HHHHHHH                     HHHHHHH                  \n",
            "   HHHHHHH                     HHHHHHH                  \n",
            "   HHHHHHH                     HHHHHHH                  \n",
            "   HHHHHHH                     HHHHHHH                  \n",
            "                            HHHHHHHHHHHHH \n",
            "                             HHHHHHHHHHH  \n",
            "                              HHHHHHHHH   \n",
            "                               HHHHHHH    \n",
            "                                HHHHH     \n",
            "                                 HHH      \n",
            "                                  H       \n"
          ],
          "name": "stdout"
        }
      ]
    },
    {
      "cell_type": "code",
      "metadata": {
        "id": "Be6K9ZqcnXwh"
      },
      "source": [
        "#QSN#12 - https://www.hackerrank.com/challenges/capitalize/problem\n",
        "\n",
        "import math\n",
        "import os\n",
        "import random\n",
        "import re\n",
        "import sys\n",
        "\n",
        "def solve(s):\n",
        "    s = s.title()\n",
        "    return s;\n",
        "    \n",
        "\n",
        "fptr = open(os.environ[\"OUTPUT_PATH\"], 'w')\n",
        "result = solve(input(\"Please Enter string:\"))\n",
        "fptr.write(result + '\\n')\n",
        "fptr.close()\n"
      ],
      "execution_count": null,
      "outputs": []
    },
    {
      "cell_type": "code",
      "metadata": {
        "colab": {
          "base_uri": "https://localhost:8080/"
        },
        "id": "pftFN-BDo2sv",
        "outputId": "113fe63f-2dd5-4c9e-c191-1eaa908be48d"
      },
      "source": [
        "#QSN#13 - https://www.hackerrank.com/challenges/the-minion-game/problem\n",
        "def minion_game(string):\n",
        "    # your code goes here\n",
        "    # The Minion Game in Python - Hacker Rank Solution START\n",
        "    player1 = 0;\n",
        "    player2 = 0;\n",
        "    str_len = len(string)\n",
        "    for i in range(str_len):\n",
        "        if s[i] in \"AEIOU\":\n",
        "            player1 += (str_len)-i\n",
        "        else :\n",
        "            player2 += (str_len)-i\n",
        "    \n",
        "    if player1 > player2:\n",
        "        print(\"Kevin\", player1)\n",
        "    elif player1 < player2:\n",
        "        print(\"Stuart\",player2)\n",
        "    elif player1 == player2:\n",
        "        print(\"Draw\")\n",
        "    else :\n",
        "        print(\"Draw\")\n",
        "    # The Minion Game in Python - Hacker Rank Solution END\n",
        "\n",
        "if __name__ == '__main__':\n",
        "    s = input()\n",
        "    minion_game(s)\n"
      ],
      "execution_count": 54,
      "outputs": [
        {
          "output_type": "stream",
          "text": [
            "BANANA\n",
            "Stuart 12\n"
          ],
          "name": "stdout"
        }
      ]
    },
    {
      "cell_type": "code",
      "metadata": {
        "colab": {
          "base_uri": "https://localhost:8080/"
        },
        "id": "9-v8RfHFpRf1",
        "outputId": "64c02a60-7c0d-4892-b859-141c2ebd0971"
      },
      "source": [
        "#QSN14-https://www.hackerrank.com/challenges/merge-the-tools/problem\n",
        "\n",
        "from collections import OrderedDict\n",
        "\n",
        "def merging(string, k):\n",
        "    strlen = len(string)\n",
        "    for i in range(0,strlen,k):\n",
        "        print(''.join(OrderedDict.fromkeys(string[i:i + k])))\n",
        "\n",
        "#string, k = input(), int(input())\n",
        "merging(input(\"Please Enter String:\"), int(input(\"Length of substring\")))\n",
        "\n"
      ],
      "execution_count": 1,
      "outputs": [
        {
          "output_type": "stream",
          "text": [
            "Please Enter String:AABCAAADA  \n",
            "Length of substring3\n",
            "AB\n",
            "CA\n",
            "AD\n",
            " \n"
          ],
          "name": "stdout"
        }
      ]
    },
    {
      "cell_type": "code",
      "metadata": {
        "id": "lcJRsvwordCG"
      },
      "source": [
        ""
      ],
      "execution_count": null,
      "outputs": []
    }
  ]
}