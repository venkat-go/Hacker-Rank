{
  "nbformat": 4,
  "nbformat_minor": 0,
  "metadata": {
    "colab": {
      "name": "Task-6 (Numpy).ipynb",
      "provenance": [],
      "collapsed_sections": []
    },
    "kernelspec": {
      "name": "python3",
      "display_name": "Python 3"
    },
    "language_info": {
      "name": "python"
    }
  },
  "cells": [
    {
      "cell_type": "code",
      "metadata": {
        "colab": {
          "base_uri": "https://localhost:8080/"
        },
        "id": "FWAAuUxBG7nc",
        "outputId": "a2da13d8-57a7-41d0-b1f6-dfd73c47b097"
      },
      "source": [
        "#Qsn#:https://www.hackerrank.com/challenges/np-arrays/problem\n",
        "import numpy as np\n",
        "\n",
        "def arrays(arr):\n",
        "  \n",
        "  #res =np.sort(arr)\n",
        "  #return res.astype(np.float)\n",
        "  return np.array(arr[::-1], float)\n",
        "\n",
        "arr = input().strip().split(' ')\n",
        "result = arrays(arr)\n",
        "print(result)\n"
      ],
      "execution_count": null,
      "outputs": [
        {
          "output_type": "stream",
          "text": [
            "1 2 3 4 -8 -10\n",
            "[-10.  -8.   4.   3.   2.   1.]\n"
          ],
          "name": "stdout"
        }
      ]
    },
    {
      "cell_type": "code",
      "metadata": {
        "colab": {
          "base_uri": "https://localhost:8080/"
        },
        "id": "ZOCBbuURMT2W",
        "outputId": "a20a0624-3b88-4be2-b9ec-d74612cd23a2"
      },
      "source": [
        "#QSN#- https://www.hackerrank.com/challenges/np-shape-reshape/problem\n",
        "import numpy as np\n",
        "\n",
        "arr = input().strip().split(' ')\n",
        "arr = np.array(arr,int)\n",
        "print(np.reshape(arr,(3,3)))\n"
      ],
      "execution_count": null,
      "outputs": [
        {
          "output_type": "stream",
          "text": [
            "1 2 3 4 5 6 7 8 9\n",
            "[[1 2 3]\n",
            " [4 5 6]\n",
            " [7 8 9]]\n"
          ],
          "name": "stdout"
        }
      ]
    },
    {
      "cell_type": "code",
      "metadata": {
        "colab": {
          "base_uri": "https://localhost:8080/"
        },
        "id": "s6WgyFy9HSAq",
        "outputId": "c24912c7-daee-4df7-ec08-02c9718cf30d"
      },
      "source": [
        "#QSN#- https://www.hackerrank.com/challenges/np-transpose-and-flatten/problem\n",
        "rows, cols = map(int, input(\"Please enter no of rows & columns\").split())\n",
        "\n",
        "array1 = np.array([input().strip().split() for _ in range(rows)], int)\n",
        "Tarr = array1.transpose()\n",
        "Farr= array1.flatten()\n",
        "\n",
        "print(\"Tranpose of array: \\n\", Tarr)\n",
        "print(\"Flateen of array: \", Farr)\n"
      ],
      "execution_count": null,
      "outputs": [
        {
          "output_type": "stream",
          "text": [
            "Please enter no of rows & columns2 2\n",
            "2 3 \n",
            "4 5\n",
            "Tranpose of array: \n",
            " [[2 4]\n",
            " [3 5]]\n",
            "Flateen of array:  [2 3 4 5]\n"
          ],
          "name": "stdout"
        }
      ]
    },
    {
      "cell_type": "code",
      "metadata": {
        "colab": {
          "base_uri": "https://localhost:8080/"
        },
        "id": "lEpeU1RHU7kZ",
        "outputId": "b530ef3e-cec3-4ee2-e35a-26197cdb084a"
      },
      "source": [
        "#QSN# https://www.hackerrank.com/challenges/np-concatenate/problem\n",
        "\n",
        "\n",
        "#The first line contains space separated integers Cols in each array, Rows of 1st array and Rows of second row.\n",
        "#The next  lines contains the space separated elements of the  columns.\n",
        "#After that, the next  lines contains the space separated elements of the  columns.\n",
        "\n",
        "Cols, Row1, Row2 = map(int,input(\"Please enter no of columns in each array, Rows of array1, Rows of array2: \").split(' '))\n",
        "Array1 = np.array([input().split() for _ in range(Cols)],int)\n",
        "Array2 = np.array([input().split() for _ in range(Row1)],int)\n",
        "\n",
        "print(np.concatenate((Array1, Array2), axis = 0))"
      ],
      "execution_count": null,
      "outputs": [
        {
          "output_type": "stream",
          "text": [
            "Please enter no of columns in each array, Rows of array1, Rows of array2 4 3 2\n",
            "1 2\n",
            "1 2\n",
            "1 2\n",
            "1 2\n",
            "3 4 \n",
            "3 4\n",
            "3 4\n",
            "[[1 2]\n",
            " [1 2]\n",
            " [1 2]\n",
            " [1 2]\n",
            " [3 4]\n",
            " [3 4]\n",
            " [3 4]]\n"
          ],
          "name": "stdout"
        }
      ]
    },
    {
      "cell_type": "code",
      "metadata": {
        "colab": {
          "base_uri": "https://localhost:8080/"
        },
        "id": "0fyYdDm6PcqD",
        "outputId": "7d0c02c5-9bf2-4043-a7ee-d4a9fc6ebbc4"
      },
      "source": [
        "#QSN# - https://www.hackerrank.com/challenges/np-zeros-and-ones/problem\n",
        "N = tuple(map(int, input().split()))\n",
        "print(np.zeros(N, int))\n",
        "print(np.ones(N, int))"
      ],
      "execution_count": null,
      "outputs": [
        {
          "output_type": "stream",
          "text": [
            "2 2 3\n",
            "[[[0 0 0]\n",
            "  [0 0 0]]\n",
            "\n",
            " [[0 0 0]\n",
            "  [0 0 0]]]\n",
            "[[[1 1 1]\n",
            "  [1 1 1]]\n",
            "\n",
            " [[1 1 1]\n",
            "  [1 1 1]]]\n"
          ],
          "name": "stdout"
        }
      ]
    },
    {
      "cell_type": "code",
      "metadata": {
        "colab": {
          "base_uri": "https://localhost:8080/"
        },
        "id": "ebmZe4W2bj2V",
        "outputId": "7ce7c8a8-bde8-441e-9e98-12578ea0dd9d"
      },
      "source": [
        "#QSN#6 -https://www.hackerrank.com/challenges/np-eye-and-identity/problem\n",
        "print(np.eye(*map(int, input().split())))"
      ],
      "execution_count": null,
      "outputs": [
        {
          "output_type": "stream",
          "text": [
            "7 6\n",
            "[[1. 0. 0. 0. 0. 0.]\n",
            " [0. 1. 0. 0. 0. 0.]\n",
            " [0. 0. 1. 0. 0. 0.]\n",
            " [0. 0. 0. 1. 0. 0.]\n",
            " [0. 0. 0. 0. 1. 0.]\n",
            " [0. 0. 0. 0. 0. 1.]\n",
            " [0. 0. 0. 0. 0. 0.]]\n"
          ],
          "name": "stdout"
        }
      ]
    },
    {
      "cell_type": "code",
      "metadata": {
        "colab": {
          "base_uri": "https://localhost:8080/"
        },
        "id": "8PAR-jB2ccQn",
        "outputId": "12e49066-2bce-494d-cdcf-1ea850f321a5"
      },
      "source": [
        "#QSN# - https://www.hackerrank.com/challenges/np-array-mathematics/problem\n",
        "\n",
        "N, M = map(int, input().split())\n",
        "\n",
        "array1 = np.array([list(map(int, input(\"Please enter integers of Array1\").split())) for n in range(N)])\n",
        "array2 = np.array([list(map(int, input(\"Please enter integers of Array2\").split())) for n in range(N)])\n",
        "\n",
        "print(array1 + array2)\n",
        "print(array1 - array2)\n",
        "print(array1 * array2)\n",
        "print(array1 // array2)\n",
        "print(array1 % array2)\n",
        "print(array1 ** array2)"
      ],
      "execution_count": null,
      "outputs": [
        {
          "output_type": "stream",
          "text": [
            "1 4\n",
            "Please enter integers of Array11 2 3 4 \n",
            "Please enter integers of Array25 6 7 8\n",
            "[[ 6  8 10 12]]\n",
            "[[-4 -4 -4 -4]]\n",
            "[[ 5 12 21 32]]\n",
            "[[0 0 0 0]]\n",
            "[[1 2 3 4]]\n",
            "[[    1    64  2187 65536]]\n"
          ],
          "name": "stdout"
        }
      ]
    },
    {
      "cell_type": "code",
      "metadata": {
        "colab": {
          "base_uri": "https://localhost:8080/"
        },
        "id": "T9jAyKPxeJ5r",
        "outputId": "968d891f-9d8a-44b3-b009-939efa7ac1e3"
      },
      "source": [
        "#QSN# - https://www.hackerrank.com/challenges/floor-ceil-and-rint/problem\n",
        "array = np.array(input().split(),float)\n",
        "\n",
        "print(np.floor(array))\n",
        "print(np.ceil(array))\n",
        "print(np.rint(array))\n"
      ],
      "execution_count": null,
      "outputs": [
        {
          "output_type": "stream",
          "text": [
            "1.1 2.2 3.3 4.4 5.5 6.6 7.7 8.8 9.9\n",
            "[1. 2. 3. 4. 5. 6. 7. 8. 9.]\n",
            "[ 2.  3.  4.  5.  6.  7.  8.  9. 10.]\n",
            "[ 1.  2.  3.  4.  6.  7.  8.  9. 10.]\n"
          ],
          "name": "stdout"
        }
      ]
    },
    {
      "cell_type": "code",
      "metadata": {
        "id": "1r9spFRjeeD4",
        "colab": {
          "base_uri": "https://localhost:8080/"
        },
        "outputId": "1899cddf-46eb-4530-baba-25e2267274d0"
      },
      "source": [
        "#QSN# - https://www.hackerrank.com/challenges/np-min-and-max/problem\n",
        "\n",
        "N, M = map(int, input().split())\n",
        "storage = np.array([input().split() for _ in range(N)],int)\n",
        "print(np.max(np.min(storage, axis=1), axis=0))\n",
        "\n",
        "\n"
      ],
      "execution_count": null,
      "outputs": [
        {
          "output_type": "stream",
          "text": [
            "4 2\n",
            "2 5\n",
            "3 7\n",
            "1 3\n",
            "4 0\n",
            "3\n"
          ],
          "name": "stdout"
        }
      ]
    },
    {
      "cell_type": "code",
      "metadata": {
        "id": "vU-4mvndeeHR"
      },
      "source": [
        "#QSN - https://www.hackerrank.com/challenges/np-mean-var-and-std/problem\n",
        "\n",
        "\n",
        "\n",
        "2 5\n",
        "3 7\n",
        "1 3\n",
        "4 0"
      ],
      "execution_count": null,
      "outputs": []
    },
    {
      "cell_type": "code",
      "metadata": {
        "id": "YrXC1zSzd3MQ",
        "colab": {
          "base_uri": "https://localhost:8080/"
        },
        "outputId": "9ffaad4d-ae45-4813-8089-f3eba434560e"
      },
      "source": [
        "#QSN - https://www.hackerrank1.com/challenges/np-mean-var-and-std/problem\n",
        "\n",
        "N,M = map(int,input().split())\n",
        "A = np.array([input().split() for _ in range(N)], int)\n",
        "print(A.mean(axis=1))\n",
        "print(A.var(axis=0))\n",
        "print(A.std())"
      ],
      "execution_count": 109,
      "outputs": [
        {
          "output_type": "stream",
          "text": [
            "2 2\n",
            "1 2\n",
            "3 4\n",
            "[1.5 3.5]\n",
            "[1. 1.]\n",
            "1.118033988749895\n"
          ],
          "name": "stdout"
        }
      ]
    },
    {
      "cell_type": "code",
      "metadata": {
        "colab": {
          "base_uri": "https://localhost:8080/"
        },
        "id": "dQOgK0ojjCCa",
        "outputId": "0bda04fb-50da-490e-dac3-a687a71d8f0d"
      },
      "source": [
        "#QSN# - https://www.hackerrank.com/challenges/np-dot-and-cross/problem\n",
        "\n"
      ],
      "execution_count": null,
      "outputs": [
        {
          "output_type": "stream",
          "text": [
            "2 2\n",
            "1 2\n",
            "3 4\n",
            "[1.5 3.5]\n",
            "[1. 1.]\n",
            "1.118033988749895\n"
          ],
          "name": "stdout"
        }
      ]
    },
    {
      "cell_type": "code",
      "metadata": {
        "id": "GoQK_X5WkHDq",
        "colab": {
          "base_uri": "https://localhost:8080/"
        },
        "outputId": "f8eda339-b8af-4515-cbb6-f0a9384c51dd"
      },
      "source": [
        "#QQSN - https://www.hackerrank.com/challenges/np-dot-and-cross/problem\n",
        "\n",
        "n = int(input())\n",
        "a = np.array([input().split() for _ in range(n)], int)\n",
        "b = np.array([input().split() for _ in range(n)], int)\n",
        "print(np.dot(a, b))\n"
      ],
      "execution_count": 110,
      "outputs": [
        {
          "output_type": "stream",
          "text": [
            "2\n",
            "1  2\n",
            "3 4\n",
            "1 2\n",
            "3 4\n",
            "[[ 7 10]\n",
            " [15 22]]\n"
          ],
          "name": "stdout"
        }
      ]
    },
    {
      "cell_type": "code",
      "metadata": {
        "colab": {
          "base_uri": "https://localhost:8080/"
        },
        "id": "Nx-eigr4sXFA",
        "outputId": "37326035-1970-4732-de55-df6462548cca"
      },
      "source": [
        "#QSN - https://www.hackerrank.com/challenges/np-inner-and-outer/problem\n",
        "A = np.array(input().split(), int)\n",
        "B = np.array(input().split(), int)\n",
        "print(np.inner(A, B), np.outer(A, B), sep='\\n')"
      ],
      "execution_count": 111,
      "outputs": [
        {
          "output_type": "stream",
          "text": [
            "0 1\n",
            "2 3\n",
            "3\n",
            "[[0 0]\n",
            " [2 3]]\n"
          ],
          "name": "stdout"
        }
      ]
    },
    {
      "cell_type": "code",
      "metadata": {
        "colab": {
          "base_uri": "https://localhost:8080/"
        },
        "id": "rRiRboWLtRwh",
        "outputId": "044a884a-b28b-472e-f1ce-f3882bb5ec28"
      },
      "source": [
        "#QSN- https://www.hackerrank.com/challenges/np-polynomials/problem\n",
        "\n",
        "poly = [float(x) for x in input().split()]\n",
        "x = float(input())\n",
        "\n",
        "print(np.polyval(poly, x))"
      ],
      "execution_count": 114,
      "outputs": [
        {
          "output_type": "stream",
          "text": [
            "1.1 2 3\n",
            "0\n",
            "3.0\n"
          ],
          "name": "stdout"
        }
      ]
    },
    {
      "cell_type": "code",
      "metadata": {
        "colab": {
          "base_uri": "https://localhost:8080/"
        },
        "id": "UASYfD8n9xkM",
        "outputId": "09f48cc9-4b7d-4056-ec13-b70b5df72d4c"
      },
      "source": [
        "#QSN - https://www.hackerrank.com/challenges/np-sum-and-prod/problem\n",
        "\n",
        "N, M = map(int, input().split())\n",
        "A = np.array([input().split() for _ in range(N)], int)\n",
        "print(np.prod(np.sum(A, axis=0), axis=0))"
      ],
      "execution_count": 115,
      "outputs": [
        {
          "output_type": "stream",
          "text": [
            "2 2\n",
            "1 2\n",
            "3 4\n",
            "24\n"
          ],
          "name": "stdout"
        }
      ]
    },
    {
      "cell_type": "code",
      "metadata": {
        "id": "b4XwhCyC-dbC"
      },
      "source": [
        ""
      ],
      "execution_count": null,
      "outputs": []
    }
  ]
}