{
  "nbformat": 4,
  "nbformat_minor": 0,
  "metadata": {
    "colab": {
      "name": "Task - 3 (Python Programming).ipynb",
      "provenance": [],
      "collapsed_sections": []
    },
    "kernelspec": {
      "name": "python3",
      "display_name": "Python 3"
    },
    "language_info": {
      "name": "python"
    }
  },
  "cells": [
    {
      "cell_type": "code",
      "metadata": {
        "colab": {
          "base_uri": "https://localhost:8080/"
        },
        "id": "yukIgMcckfv_",
        "outputId": "8b1cbe6d-d868-4d9a-9116-48232f4038c8"
      },
      "source": [
        "#QSN#1 - https://www.hackerrank.com/challenges/find-angle/problem\n",
        "import math\n",
        "\n",
        "ab = int(input())\n",
        "bc = int(input())\n",
        "\n",
        "H = math.sqrt(ab**2 + bc**2)\n",
        "H = H/2.0\n",
        "adj = bc/2.0\n",
        "\n",
        "Output = int(round(math.degrees(math.acos(adj/H))))\n",
        "\n",
        "Output = str(Output)\n",
        "\n",
        "print(Output+str(chr(176)))"
      ],
      "execution_count": 12,
      "outputs": [
        {
          "output_type": "stream",
          "text": [
            "10\n",
            "10\n",
            "45°\n"
          ],
          "name": "stdout"
        }
      ]
    },
    {
      "cell_type": "code",
      "metadata": {
        "colab": {
          "base_uri": "https://localhost:8080/"
        },
        "id": "VhhjwywJnuCL",
        "outputId": "2ea12e38-9357-47fa-9afe-a45ce018fc8f"
      },
      "source": [
        "#QSN#2 - https://www.hackerrank.com/challenges/triangle-quest-2/problem\n",
        "\n",
        "for i in range(1,int(input())+1): \n",
        "     print ((((10**i)-1)//(9))**2);"
      ],
      "execution_count": 14,
      "outputs": [
        {
          "output_type": "stream",
          "text": [
            "5\n",
            "1\n",
            "121\n",
            "12321\n",
            "1234321\n",
            "123454321\n"
          ],
          "name": "stdout"
        }
      ]
    },
    {
      "cell_type": "code",
      "metadata": {
        "colab": {
          "base_uri": "https://localhost:8080/"
        },
        "id": "omC5nwqin1wG",
        "outputId": "0c6d2052-fff1-4641-93d5-ad62a4c4025c"
      },
      "source": [
        "#QSN#3- https://www.hackerrank.com/challenges/python-mod-divmod/problem\n",
        "#Built-in functions of Python is divmod, which takes two arguments A and B and returns a tuple containing the quotient of a/b first and then the remainder a.\n",
        "\n",
        "a = int(input(\"Please enter a number: \"));\n",
        "b = int(input(\"Please enter a number: \"));\n",
        "print(\"a//b: {0}\".format(a//b));\n",
        "print(\"a%b: {0}\".format(a%b));\n",
        "print(\"divmod(a,b): {0}\".format(divmod(a,b)));"
      ],
      "execution_count": 33,
      "outputs": [
        {
          "output_type": "stream",
          "text": [
            "Please enter a number: 3\n",
            "Please enter a number: 4\n",
            "a//b: 0\n",
            "a%b: 3\n",
            "divmod(a,b): (0, 3)\n"
          ],
          "name": "stdout"
        }
      ]
    },
    {
      "cell_type": "code",
      "metadata": {
        "colab": {
          "base_uri": "https://localhost:8080/"
        },
        "id": "-BHWfX8prAgW",
        "outputId": "b420d3fd-5b25-40e1-e918-ae74c2237af0"
      },
      "source": [
        "#QSN#4 - https://www.hackerrank.com/challenges/python-power-mod-power/problem\n",
        "\n",
        "base = int(input(\"Please enter base: \"));\n",
        "p = int(input(\"Please enter power: \"));\n",
        "mod = int(input(\"Please enter mod: \"));\n",
        "pow(base,p)\n",
        "print(\"{0} ^ {1} is {2}\".format(base,p,pow(base,p)))\n",
        "pow(base,p,mod)"
      ],
      "execution_count": 28,
      "outputs": [
        {
          "output_type": "stream",
          "text": [
            "Please enter base: 3\n",
            "Please enter power: 4\n",
            "Please enter mod: 5\n",
            "3 ^ 4 is 81\n"
          ],
          "name": "stdout"
        },
        {
          "output_type": "execute_result",
          "data": {
            "text/plain": [
              "1"
            ]
          },
          "metadata": {
            "tags": []
          },
          "execution_count": 28
        }
      ]
    },
    {
      "cell_type": "code",
      "metadata": {
        "colab": {
          "base_uri": "https://localhost:8080/"
        },
        "id": "JQveWZ2frUN6",
        "outputId": "8fbb4337-63a5-42c1-8b28-af7830c1ea8a"
      },
      "source": [
        "#QSN#5: https://www.hackerrank.com/challenges/python-integers-come-in-all-sizes/problem\n",
        "\n",
        "base1 = int(input(\"Please enter base: \"));\n",
        "p1 = int(input(\"Please enter power: \"));\n",
        "\n",
        "base2 = int(input(\"Please enter base: \"));\n",
        "p2 = int(input(\"Please enter power: \"));\n",
        "print(pow(base1,p1) + pow(base2,p2))\n"
      ],
      "execution_count": 35,
      "outputs": [
        {
          "output_type": "stream",
          "text": [
            "Please enter base: 9\n",
            "Please enter power: 29\n",
            "Please enter base: 7\n",
            "Please enter power: 27\n",
            "4710194409608608369201743232\n"
          ],
          "name": "stdout"
        }
      ]
    },
    {
      "cell_type": "code",
      "metadata": {
        "colab": {
          "base_uri": "https://localhost:8080/"
        },
        "id": "ZJDVPCUkt7eF",
        "outputId": "ad7d4a14-8ed6-44ad-f844-9cd207374d52"
      },
      "source": [
        "#QSN#6 - https://www.hackerrank.com/challenges/python-quest-1/problem\n",
        "for i in range(1,int(input(\"Please enter a number\"))): \n",
        "    print(int(i * 10**i / 9))"
      ],
      "execution_count": 39,
      "outputs": [
        {
          "output_type": "stream",
          "text": [
            "Please enter a number5\n",
            "1\n",
            "22\n",
            "333\n",
            "4444\n"
          ],
          "name": "stdout"
        }
      ]
    },
    {
      "cell_type": "code",
      "metadata": {
        "id": "EGcv886C6C4_"
      },
      "source": [
        ""
      ],
      "execution_count": null,
      "outputs": []
    }
  ]
}