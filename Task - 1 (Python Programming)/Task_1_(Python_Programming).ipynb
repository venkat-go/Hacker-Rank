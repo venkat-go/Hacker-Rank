{
  "nbformat": 4,
  "nbformat_minor": 0,
  "metadata": {
    "colab": {
      "name": "Task - 1 (Python Programming).ipynb",
      "provenance": [],
      "collapsed_sections": []
    },
    "kernelspec": {
      "name": "python3",
      "display_name": "Python 3"
    },
    "language_info": {
      "name": "python"
    }
  },
  "cells": [
    {
      "cell_type": "code",
      "metadata": {
        "colab": {
          "base_uri": "https://localhost:8080/"
        },
        "id": "cYh8z2B4qGST",
        "outputId": "270f758e-b1a1-4559-d0ce-b1bee115b8f6"
      },
      "source": [
        "#Question 1\n",
        "print(\"Hello, World\")"
      ],
      "execution_count": 1,
      "outputs": [
        {
          "output_type": "stream",
          "text": [
            "Hello, World\n"
          ],
          "name": "stdout"
        }
      ]
    },
    {
      "cell_type": "code",
      "metadata": {
        "colab": {
          "base_uri": "https://localhost:8080/"
        },
        "id": "pl0Hr06hq2lA",
        "outputId": "2e799edb-0292-4f3e-aa94-5a2707164b78"
      },
      "source": [
        " #Question2\n",
        "n = int(input(\"Please Enter a positive number\").strip())\n",
        "\n",
        "if n%2 != 0:\n",
        "  print(\"Weird\")\n",
        "elif n >=2 and n <5:\n",
        "  print(\"Not Weird\")\n",
        "elif n>=6 and n<20:\n",
        "  print(\"Weird\")\n",
        "elif n>20:\n",
        "    print(\"Not Weird\")\n"
      ],
      "execution_count": 17,
      "outputs": [
        {
          "output_type": "stream",
          "text": [
            "Please Enter a positive number21\n",
            "Weird\n"
          ],
          "name": "stdout"
        }
      ]
    },
    {
      "cell_type": "code",
      "metadata": {
        "colab": {
          "base_uri": "https://localhost:8080/"
        },
        "id": "VupNk2RjsJyv",
        "outputId": "37412b1b-935a-4efb-a4f9-9bdb2d69fef5"
      },
      "source": [
        "#Question3\n",
        "\n",
        "a = int(input(\"Please enter first number:\").strip())\n",
        "b = int(input(\"Please enter second number:\").strip())\n",
        "    \n",
        "print(\"sum of the two given numbers is {0}\".format(a+b))\n",
        "print(\"subtraction of the two given numbers is {0}\".format(a-b))\n",
        "print(\"Mulitplication of the two given numbers is {0}\".format(a*b))"
      ],
      "execution_count": 18,
      "outputs": [
        {
          "output_type": "stream",
          "text": [
            "Please enter first number:3\n",
            "Please enter second number:2\n",
            "sum of the two given numbers is 5\n",
            "subtraction of the two given numbers is 1\n",
            "Mulitplication of the two given numbers is 6\n"
          ],
          "name": "stdout"
        }
      ]
    },
    {
      "cell_type": "code",
      "metadata": {
        "colab": {
          "base_uri": "https://localhost:8080/"
        },
        "id": "h-jCiuvmx5h9",
        "outputId": "ad0eafb3-79b8-4b94-d702-e2f876d1f568"
      },
      "source": [
        "#Question4\n",
        "\n",
        "a = int(input(\"Please enter first number:\").strip())\n",
        "b = int(input(\"Please enter second number:\").strip())\n",
        "    \n",
        "print(\"\\nThe result of the integer division is {0}\".format(a//b))\n",
        "print(\"The result of the float division is {0}\".format(a/b))\n",
        "\n"
      ],
      "execution_count": 25,
      "outputs": [
        {
          "output_type": "stream",
          "text": [
            "Please enter first number:3\n",
            "Please enter second number:2\n",
            "\n",
            "The result of the integer division is 1\n",
            "The result of the float division is 1.5\n"
          ],
          "name": "stdout"
        }
      ]
    },
    {
      "cell_type": "code",
      "metadata": {
        "colab": {
          "base_uri": "https://localhost:8080/"
        },
        "id": "FpDHTzAVzhaB",
        "outputId": "742f676d-4cc9-46db-fbbf-06865a3efee6"
      },
      "source": [
        "#Question5\n",
        "\n",
        "n= int(input(\"Please enter a number:\").strip())\n",
        " \n",
        "for i in range(n):\n",
        "  print(i*i)"
      ],
      "execution_count": 30,
      "outputs": [
        {
          "output_type": "stream",
          "text": [
            "Please enter a number:5\n",
            "0\n",
            "1\n",
            "4\n",
            "9\n",
            "16\n"
          ],
          "name": "stdout"
        }
      ]
    },
    {
      "cell_type": "code",
      "metadata": {
        "colab": {
          "base_uri": "https://localhost:8080/"
        },
        "id": "L5Yxq5EW1Jit",
        "outputId": "909915c4-d3ff-486a-87be-7d2d051d0806"
      },
      "source": [
        "#Question6\n",
        "def Validate_leap(year):\n",
        "    if year%4 == 0:\n",
        "      if year%100 == 0:\n",
        "        if year%400 == 0:\n",
        "          return True\n",
        "        else:\n",
        "          return False\n",
        "      else:\n",
        "        return True\n",
        "    else:\n",
        "      return False\n",
        " \n",
        "year = int(input(\"Please enter a year:\").strip())\n",
        "\n",
        "if Validate_leap(year):\n",
        "  print(\"{0} is Leap year\".format(year))\n",
        "else:\n",
        "  print(\"{0} is NOT Leap year\".format(year))"
      ],
      "execution_count": 69,
      "outputs": [
        {
          "output_type": "stream",
          "text": [
            "Please enter a year:2100\n",
            "5.25\n",
            "2100 is NOT Leap year\n"
          ],
          "name": "stdout"
        }
      ]
    },
    {
      "cell_type": "code",
      "metadata": {
        "colab": {
          "base_uri": "https://localhost:8080/"
        },
        "id": "qlFs1GvJ1_eT",
        "outputId": "2a58c1c1-2d6d-44d2-ab46-db239bc7ba6c"
      },
      "source": [
        " #Question7\n",
        " n=int(input(\"Please enter a positive number:\").strip())\n",
        "\n",
        " for i in range(1,n+1):\n",
        "   print(i, end=\"\")"
      ],
      "execution_count": 72,
      "outputs": [
        {
          "output_type": "stream",
          "text": [
            "Please enter a positive number:5\n",
            "12345"
          ],
          "name": "stdout"
        }
      ]
    },
    {
      "cell_type": "code",
      "metadata": {
        "id": "ADFxnm4c3u80"
      },
      "source": [
        ""
      ],
      "execution_count": null,
      "outputs": []
    }
  ]
}