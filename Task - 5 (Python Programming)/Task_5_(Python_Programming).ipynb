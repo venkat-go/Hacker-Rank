{
  "nbformat": 4,
  "nbformat_minor": 0,
  "metadata": {
    "colab": {
      "name": "Task - 5 (Python Programming).ipynb",
      "provenance": [],
      "collapsed_sections": []
    },
    "kernelspec": {
      "name": "python3",
      "display_name": "Python 3"
    },
    "language_info": {
      "name": "python"
    }
  },
  "cells": [
    {
      "cell_type": "code",
      "metadata": {
        "id": "SaXfRYrgvpFX"
      },
      "source": [
        "#Text Alignment hackerrank solution in python"
      ],
      "execution_count": null,
      "outputs": []
    },
    {
      "cell_type": "code",
      "metadata": {
        "colab": {
          "base_uri": "https://localhost:8080/"
        },
        "id": "djz7mJA8xg1u",
        "outputId": "0f56bc53-71f7-41ec-8a30-f0544bce2ed5"
      },
      "source": [
        "#QSN#1 - https://www.hackerrank.com/challenges/introduction-to-regex/problem\n",
        "import re\n",
        " \n",
        "n = int(input())\n",
        "        \n",
        "for i in range(n):\n",
        "  print(bool(re.match(r'^[-+]?[0-9]*\\.[0-9]+$', input(\"Please Enter a number\"))))\n",
        "\n"
      ],
      "execution_count": null,
      "outputs": [
        {
          "output_type": "stream",
          "text": [
            "2\n",
            "Please Enter a number-1.000\n",
            "True\n",
            "Please Enter a number+4.54\n",
            "True\n"
          ],
          "name": "stdout"
        }
      ]
    },
    {
      "cell_type": "code",
      "metadata": {
        "colab": {
          "base_uri": "https://localhost:8080/"
        },
        "id": "6_MyGzJZy8CE",
        "outputId": "dc2c3956-72e8-4583-9b25-8226facc1d27"
      },
      "source": [
        "#QSN#2 - https://www.hackerrank.com/challenges/re-split/problem\n",
        "import re\n",
        "regex_pattern = r'[.,]+'\t# Do not delete 'r'.\n",
        "print(\"\\n\".join(re.split(regex_pattern, input())))"
      ],
      "execution_count": null,
      "outputs": [
        {
          "output_type": "stream",
          "text": [
            "100,000,000.000\n",
            "100\n",
            "000\n",
            "000\n",
            "000\n"
          ],
          "name": "stdout"
        }
      ]
    },
    {
      "cell_type": "code",
      "metadata": {
        "colab": {
          "base_uri": "https://localhost:8080/"
        },
        "id": "zLHhcWhi0m7Z",
        "outputId": "b1039042-bde5-4719-a262-72aa68a82e39"
      },
      "source": [
        "#QSN#3 - https://www.hackerrank.com/challenges/re-group-groups/problem\n",
        "\n",
        "import re\n",
        "\n",
        "expression=r\"([a-zA-Z0-9])\\1+\"\n",
        "\n",
        "m = re.search(expression,input())\n",
        "\n",
        "if m:\n",
        "    print(m.group(1))\n",
        "else:\n",
        "    print(-1)"
      ],
      "execution_count": null,
      "outputs": [
        {
          "output_type": "stream",
          "text": [
            "12345678910111213141516171820212223\n",
            "1\n"
          ],
          "name": "stdout"
        }
      ]
    },
    {
      "cell_type": "code",
      "metadata": {
        "colab": {
          "base_uri": "https://localhost:8080/"
        },
        "id": "Fg9pbYlc18bQ",
        "outputId": "e65de267-5ed4-4545-9498-a2cad2a7df4d"
      },
      "source": [
        "#QSN#4 - https://www.hackerrank.com/challenges/re-findall-re-finditer/problem\n",
        "import re\n",
        "consonants = 'qwrtypsdfghjklzxcvbnm'\n",
        "vowels = 'aeiou'\n",
        "match = re.findall(r'(?<=['+consonants+'])(['+vowels+']{2,})(?=['+consonants+'])',input(),flags = re.I)\n",
        "if match:\n",
        "    for i in match:\n",
        "        print(i)\n",
        "else:\n",
        "    print(-1)"
      ],
      "execution_count": null,
      "outputs": [
        {
          "output_type": "stream",
          "text": [
            "rabcdeefgyYhFjkIoomnpOeorteeeeet\n",
            "ee\n",
            "Ioo\n",
            "Oeo\n",
            "eeeee\n"
          ],
          "name": "stdout"
        }
      ]
    },
    {
      "cell_type": "code",
      "metadata": {
        "id": "d2Rsb_792cBr",
        "colab": {
          "base_uri": "https://localhost:8080/"
        },
        "outputId": "01ca03fd-f772-4db5-8004-d81f9bb86b17"
      },
      "source": [
        "#QSN#5 - https://www.hackerrank.com/challenges/re-start-re-end/problem\n",
        "import re\n",
        "S, k = input(), input()\n",
        "find = re.finditer(r'(?=(' + k + '))', S)\n",
        "\n",
        "anyfind = False\n",
        "for match in find:\n",
        "    anyfind = True\n",
        "    print((match.start(1), match.end(1) - 1))\n",
        "\n",
        "if anyfind == False:\n",
        "    print((-1, -1))"
      ],
      "execution_count": null,
      "outputs": [
        {
          "output_type": "stream",
          "text": [
            "aaadaa\n",
            "aa\n",
            "(0, 1)\n",
            "(1, 2)\n",
            "(4, 5)\n"
          ],
          "name": "stdout"
        }
      ]
    },
    {
      "cell_type": "code",
      "metadata": {
        "id": "hSK9nUmF352O",
        "colab": {
          "base_uri": "https://localhost:8080/"
        },
        "outputId": "b5f58aea-21c1-48ab-b553-f7482a56b672"
      },
      "source": [
        "#QSN#6 - https://www.hackerrank.com/challenges/validate-a-roman-number/problem\n",
        "import re\n",
        "k1 = 'M{0,3}'\n",
        "cent = '(C[MD]|D?C{0,3})'\n",
        "ten = '(X[CL]|L?X{0,3})'\n",
        "digit = '(I[VX]|V?I{0,3})'\n",
        "regex_pattern = r\"%s%s%s%s$\" % (k1, cent, ten, digit)    \n",
        "print(str(bool(re.match(regex_pattern, input()))))"
      ],
      "execution_count": null,
      "outputs": [
        {
          "output_type": "stream",
          "text": [
            "CDXXI\n",
            "True\n"
          ],
          "name": "stdout"
        }
      ]
    },
    {
      "cell_type": "code",
      "metadata": {
        "id": "xPa9DNaru72N",
        "colab": {
          "base_uri": "https://localhost:8080/"
        },
        "outputId": "67178e83-946b-47be-a0f3-957f02bbce52"
      },
      "source": [
        "#QSN#7 - https://www.hackerrank.com/challenges/validating-the-phone-number/problem\n",
        "import re\n",
        "\n",
        "n = int(input(\"Please number of inputs: \"))\n",
        "\n",
        "for i in range(n):\n",
        "    number = input(\"Please enter phone number to validate: \")\n",
        "    if(len(number)==10 and number.isdigit()):\n",
        "        output = re.findall(r\"^[789]\\d{9}$\",number)\n",
        "        if(len(output)==1):\n",
        "            print(\"YES\")\n",
        "        else:\n",
        "            print(\"NO\")\n",
        "    else:\n",
        "        print(\"NO\")\n"
      ],
      "execution_count": null,
      "outputs": [
        {
          "output_type": "stream",
          "text": [
            "Please enter a number: 2\n",
            "9587456281\n",
            "YES\n",
            "1252478965\n",
            "NO\n"
          ],
          "name": "stdout"
        }
      ]
    },
    {
      "cell_type": "code",
      "metadata": {
        "id": "aIsU64Vkv2wn",
        "colab": {
          "base_uri": "https://localhost:8080/"
        },
        "outputId": "f3867cbb-bc08-49de-8144-548e099248cf"
      },
      "source": [
        "#QSN#8 - https://www.hackerrank.com/challenges/validating-named-email-addresses/problem\n",
        "import re\n",
        "\n",
        "n = int(input(\"Please enter number of inputs:\"))\n",
        "\n",
        "for i in range(n):\n",
        "    name, email = input(\"Please enter name & Email address: \").split()\n",
        "    pattern=\"<[a-z][a-zA-Z0-9\\-\\.\\_]+@[a-zA-Z]+\\.[a-zA-Z]{1,3}>\"\n",
        "    if bool(re.match(pattern, email)):\n",
        "        print(name,email)"
      ],
      "execution_count": null,
      "outputs": [
        {
          "output_type": "stream",
          "text": [
            "Please enter number of inputs:2\n",
            "Please enter name & Email address: DEXTER <dexter@hotmail.com>\n",
            "DEXTER <dexter@hotmail.com>\n",
            "Please enter name & Email address: VIRUS <virus!@variable.:p>\n"
          ],
          "name": "stdout"
        }
      ]
    },
    {
      "cell_type": "code",
      "metadata": {
        "id": "Zw8YFdamwYzw",
        "colab": {
          "base_uri": "https://localhost:8080/"
        },
        "outputId": "48190bf0-4324-4bec-dbf5-961fdef5c16a"
      },
      "source": [
        "#QSN#9 - https://www.hackerrank.com/challenges/hex-color-code/problem\n",
        "\n",
        "import re\n",
        "\n",
        "n = int(input())\n",
        "inCss = False\n",
        "for _ in range(n):\n",
        "    stag = input()\n",
        "    if '{' in stag:\n",
        "        inCss = True\n",
        "    elif '}' in s:\n",
        "        inCss = False\n",
        "    elif inCss:\n",
        "        for color in re.findall('#[0-9a-fA-F]{3,6}', stag):\n",
        "            print(color)"
      ],
      "execution_count": null,
      "outputs": [
        {
          "output_type": "stream",
          "text": [
            "11\n",
            "#BED\n",
            "{\n",
            "color: #FfFdF8; background-color:#aef;\n",
            "#FfFdF8\n",
            "#aef\n",
            "    font-size: 123px;\n",
            "background: -webkit-linear-gradient(top, #f9f9f9, #fff);\n",
            "#f9f9f9\n",
            "#fff\n",
            "}\n",
            "#Cab\n",
            "#Cab\n",
            "{\n",
            "    background-color: #ABC;\n",
            "#ABC\n",
            "    border: 2px dashed #fff;\n",
            "#fff\n",
            "}\n"
          ],
          "name": "stdout"
        }
      ]
    },
    {
      "cell_type": "code",
      "metadata": {
        "id": "6g-vz7u1xc87",
        "colab": {
          "base_uri": "https://localhost:8080/"
        },
        "outputId": "2baae3e8-2b01-40d5-abaf-ff86ba8c2343"
      },
      "source": [
        "#QSN#10- https://www.hackerrank.com/challenges/validating-credit-card-number/problem\n",
        "\n",
        "import re\n",
        "for i in range(int(input(\"please enter number of inputs\"))):\n",
        "    cards = input(\"Please enter card numbers\").strip()\n",
        "    pre_match = re.search(r'^[456]\\d{3}(-?)\\d{4}\\1\\d{4}\\1\\d{4}$',cards)\n",
        "    if pre_match:\n",
        "        processed_string = \"\".join(pre_match.group(0).split('-'))\n",
        "        final_match = re.search(r'(\\d)\\1{3,}',processed_string)\n",
        "        if final_match:\n",
        "            print('Card number given is Invalid')\n",
        "        else :\n",
        "            print('Card number given is Valid')\n",
        "    else:\n",
        "        print('Card number given is Invalid')"
      ],
      "execution_count": null,
      "outputs": [
        {
          "output_type": "stream",
          "text": [
            "please enter number of inputs2\n",
            "Please enter card numbers4587-8597-8521-9574\n",
            "Card number given is Valid\n",
            "Please enter card numbers58978547123658974\n",
            "Card number given is Invalid\n"
          ],
          "name": "stdout"
        }
      ]
    },
    {
      "cell_type": "code",
      "metadata": {
        "id": "V_ov0HGX01FX",
        "colab": {
          "base_uri": "https://localhost:8080/"
        },
        "outputId": "043ceb64-54eb-45cf-941a-dd4fa30ce9f6"
      },
      "source": [
        "#QSN#11 -https://www.hackerrank.com/challenges/validating-postalcode/problem\n",
        "\n",
        "regex_integer_in_range = r\"^[1-9][\\d]{5}$\"    # Do not delete 'r'.\n",
        "regex_alternating_repetitive_digit_pair = r\"(\\d)(?=\\d\\1)\"\n",
        "\n",
        "import re\n",
        "P = input()\n",
        "\n",
        "print (bool(re.match(regex_integer_in_range, P)) \n",
        "and len(re.findall(regex_alternating_repetitive_digit_pair, P)) < 2)\n"
      ],
      "execution_count": null,
      "outputs": [
        {
          "output_type": "stream",
          "text": [
            "110000\n",
            "False\n"
          ],
          "name": "stdout"
        }
      ]
    },
    {
      "cell_type": "code",
      "metadata": {
        "id": "VrE7zBHO2ANL",
        "colab": {
          "base_uri": "https://localhost:8080/"
        },
        "outputId": "276e6093-7431-42c7-e882-6525406ac909"
      },
      "source": [
        "#QSN#12 - https://www.hackerrank.com/challenges/matrix-script/problem\n",
        "import math\n",
        "import os\n",
        "import random\n",
        "import re\n",
        "import sys\n",
        "\n",
        "first_multiple_input = input().rstrip().split()\n",
        "\n",
        "n = int(first_multiple_input[0])\n",
        "m = int(first_multiple_input[1])\n",
        "\n",
        "matrix = []\n",
        "\n",
        "for _ in range(n):\n",
        "    matrix_item = input()\n",
        "    matrix.append(matrix_item)\n",
        "\n",
        "# start   \n",
        "matrix = list(zip(*matrix))\n",
        "\n",
        "sample = str()\n",
        "\n",
        "for words in matrix:\n",
        "    for char in words:\n",
        "        sample += char\n",
        "       \n",
        "print(re.sub(r'(?<=\\w)([^\\w\\d]+)(?=\\w)', ' ', sample)) "
      ],
      "execution_count": null,
      "outputs": [
        {
          "output_type": "stream",
          "text": [
            "7 3\n",
            "TSi\n",
            "h%x\n",
            "i #\n",
            "sM \n",
            "$a \n",
            "#t%\n",
            "ir!\n",
            "This iS Matrix#  %!\n"
          ],
          "name": "stdout"
        }
      ]
    },
    {
      "cell_type": "code",
      "metadata": {
        "id": "y6dycOvO2_u_",
        "colab": {
          "base_uri": "https://localhost:8080/"
        },
        "outputId": "d88be48b-b671-45d3-bbf3-7dbc1216591e"
      },
      "source": [
        "#QSN#13 - https://www.hackerrank.com/challenges/validating-uid/problem\n",
        "import re\n",
        "\n",
        "for i in range(int(input(\"Please enter number of inputs:\"))):\n",
        "    uids = input(\"please enter uids\").strip()\n",
        "    if uids.isalnum() and len(uids) == 10:\n",
        "        if bool(re.search(r'(.*[A-Z]){2,}',uids)) and bool(re.search(r'(.*[0-9]){3,}',uids)):\n",
        "            if re.search(r'.*(.).*\\1+.*',uids):\n",
        "                print('Given UID is Invalid')\n",
        "            else:\n",
        "                print('Given UID is Valid')\n",
        "        else:\n",
        "            print('Given UID is Invalid')\n",
        "    else:\n",
        "        print('Given UID is Invalid')"
      ],
      "execution_count": null,
      "outputs": [
        {
          "output_type": "stream",
          "text": [
            "Please enter number of inputs:2\n",
            "please enter uidsB1CD102354\n",
            "Given UID is Invalid\n",
            "please enter uidsB1CDEF2354\n",
            "Given UID is Valid\n"
          ],
          "name": "stdout"
        }
      ]
    },
    {
      "cell_type": "code",
      "metadata": {
        "id": "-VIC46q74PGB",
        "colab": {
          "base_uri": "https://localhost:8080/"
        },
        "outputId": "c217da01-6715-4124-93cd-dc8c27dee911"
      },
      "source": [
        "#QSN#14 - https://www.hackerrank.com/challenges/detect-html-tags-attributes-and-attribute-values/problem\n",
        "\n",
        "from html.parser import HTMLParser #to parse HTML\n",
        "\n",
        "class MyHTMLParser(HTMLParser):\n",
        "    def handle_starttag(self, tag, attrs):\n",
        "        print(tag)\n",
        "        for attr, value in attrs:\n",
        "            print(\"->\", attr, \">\", value)\n",
        "\n",
        "    def handle_startendtag(self, tag, attrs):\n",
        "        print(tag)\n",
        "        for attr, value in attrs:\n",
        "            print(\"->\", attr, \">\", value)\n",
        "\n",
        "html = ''\n",
        "for _ in range(int(input())):\n",
        "    html += input().rstrip() + '\\n'\n",
        "\n",
        "parser = MyHTMLParser()\n",
        "parser.feed(html)\n",
        "parser.close()"
      ],
      "execution_count": null,
      "outputs": [
        {
          "output_type": "stream",
          "text": [
            "9\n",
            "<head>\n",
            "<title>HTML</title>\n",
            "</head>\n",
            "<object type=\"application/x-flash\" \n",
            "  data=\"your-file.swf\" \n",
            "  width=\"0\" height=\"0\">\n",
            "  <!-- <param name=\"movie\" value=\"your-file.swf\" /> -->\n",
            "  <param name=\"quality\" value=\"high\"/>\n",
            "</object>\n",
            "head\n",
            "title\n",
            "object\n",
            "-> type > application/x-flash\n",
            "-> data > your-file.swf\n",
            "-> width > 0\n",
            "-> height > 0\n",
            "param\n",
            "-> name > quality\n",
            "-> value > high\n"
          ],
          "name": "stdout"
        }
      ]
    },
    {
      "cell_type": "code",
      "metadata": {
        "id": "CrwH--ZJ4yv7",
        "colab": {
          "base_uri": "https://localhost:8080/"
        },
        "outputId": "d2746189-27a9-487e-f21d-6df610f59bf2"
      },
      "source": [
        "#QSN#15 - https://www.hackerrank.com/challenges/html-parser-part-2/problem\n",
        "\n",
        "\n",
        "from html.parser import HTMLParser\n",
        "\n",
        "class MyHTMLParser(HTMLParser):\n",
        "\n",
        "    # HTML Parser - Part 2 in Python - Hacker Rank Solution START\n",
        "    def handle_comment(self, data):\n",
        "        if (len(data.split('\\n')) != 1):\n",
        "            print(\">>> Multi-line Comment\")\n",
        "        else:\n",
        "            print(\">>> Single-line Comment\")\n",
        "        print(data.replace(\"\\r\", \"\\n\"))\n",
        "    def handle_data(self, data):\n",
        "        if data.strip():\n",
        "            print(\">>> Data\")\n",
        "            print(data)\n",
        "    \n",
        "  \n",
        "html = \"\"       \n",
        "for i in range(int(input())):\n",
        "    html += input().rstrip()\n",
        "    html += '\\n'\n",
        "    \n",
        "parser = MyHTMLParser()\n",
        "parser.feed(html)\n",
        "parser.close()"
      ],
      "execution_count": null,
      "outputs": [
        {
          "output_type": "stream",
          "text": [
            "4\n",
            "<!--[if IE 9]>IE9-specific content\n",
            "<![endif]-->\n",
            "<div> Welcome to HackerRank</div>\n",
            "<!--[if IE 9]>IE9-specific content<![endif]-->\n",
            ">>> Multi-line Comment\n",
            "[if IE 9]>IE9-specific content\n",
            "<![endif]\n",
            ">>> Data\n",
            " Welcome to HackerRank\n",
            ">>> Single-line Comment\n",
            "[if IE 9]>IE9-specific content<![endif]\n"
          ],
          "name": "stdout"
        }
      ]
    },
    {
      "cell_type": "code",
      "metadata": {
        "id": "A7apUq7P6qbY",
        "colab": {
          "base_uri": "https://localhost:8080/"
        },
        "outputId": "6fe7ca06-5eae-4894-df4f-2f57344ad5ed"
      },
      "source": [
        "#QSN#16 - https://www.hackerrank.com/challenges/html-parser-part-1/problem\n",
        "\n",
        "import re\n",
        "import html\n",
        "from html.parser import HTMLParser\n",
        "# create a subclass and override the handler methods\n",
        "class MyHTMLParser(HTMLParser):\n",
        "    def handle_starttag(self, tag, attrs):\n",
        "        print(\"Start :\", tag)\n",
        "        for name,value in attrs:\n",
        "            print(\"->\",name+\" >\",value)\n",
        "    def handle_endtag(self, tag):\n",
        "        print(\"End   :\", tag)\n",
        "    def handle_startendtag(self, tag, attrs):\n",
        "        print(\"Empty :\", tag)\n",
        "        for name,value in attrs:\n",
        "            print(\"->\",name+\" >\",value)\n",
        "# instantiate the parser and fed it some HTML\n",
        "parser = MyHTMLParser()\n",
        "n = int(input(\"Please enter number of inputs: \"))\n",
        "for _ in range(n):\n",
        "    parser.feed(input(\"Please enter feed:\")) \n"
      ],
      "execution_count": null,
      "outputs": [
        {
          "output_type": "stream",
          "text": [
            "Please enter number of inputs: 2\n",
            "Please enter feed:<html><head><title>HTML Parser - I</title></head>\n",
            "Start : html\n",
            "Start : head\n",
            "Start : title\n",
            "End   : title\n",
            "End   : head\n",
            "Please enter feed:<body data-modal-target class='1'><h1>HackerRank</h1><br /></body></html>\n",
            "Start : body\n",
            "-> data-modal-target > None\n",
            "-> class > 1\n",
            "Start : h1\n",
            "End   : h1\n",
            "Empty : br\n",
            "End   : body\n",
            "End   : html\n"
          ],
          "name": "stdout"
        }
      ]
    },
    {
      "cell_type": "code",
      "metadata": {
        "id": "teo5tRyk8dKK",
        "colab": {
          "base_uri": "https://localhost:8080/"
        },
        "outputId": "657a36d0-8669-44f0-c587-05e652fcfa94"
      },
      "source": [
        "#QSN#17 -https://www.hackerrank.com/challenges/re-sub-regex-substitution/problem\n",
        "\n",
        "import re\n",
        "\n",
        "def change(match):\n",
        "    symb = match.group(0)\n",
        "    \n",
        "    if symb == \"&&\":\n",
        "        return \"and\"\n",
        "    elif symb == \"||\":\n",
        "        return \"or\"\n",
        "    \n",
        "n = int(input().strip())\n",
        "for _ in range(n):\n",
        "    print(re.sub(r'(?<= )(&&|\\|\\|)(?= )', change, input()))\n"
      ],
      "execution_count": null,
      "outputs": [
        {
          "output_type": "stream",
          "text": [
            "a=11\n",
            "b = input();\n",
            "if a + b > 0 and a - b < 0:\n",
            "    start()\n",
            "elif a*b > 10 or a/b < 1:\n",
            "    stop()\n",
            "print(set(list(a)) | set(list(b)) )\n",
            "#Note do not change &&& or ||| or & or |\n",
            "#Only change those '&&' which have space on both sides.\n",
            "#Only change those '|| which have space on both sides.\n"
          ],
          "name": "stdout"
        }
      ]
    },
    {
      "cell_type": "code",
      "metadata": {
        "id": "gr1f20M5DmAJ"
      },
      "source": [
        ""
      ],
      "execution_count": null,
      "outputs": []
    }
  ]
}